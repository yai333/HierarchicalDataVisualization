{
 "cells": [
  {
   "cell_type": "code",
   "execution_count": 2,
   "metadata": {},
   "outputs": [
    {
     "name": "stdout",
     "output_type": "stream",
     "text": [
      "Collecting treelib\n",
      "  Downloading https://files.pythonhosted.org/packages/17/47/0a8e745a1982ca82ef2149903fc77d5bbf08c4d566f8d238dca7eaf59837/treelib-1.5.5.tar.gz\n",
      "Building wheels for collected packages: treelib\n",
      "  Running setup.py bdist_wheel for treelib ... \u001b[?25ldone\n",
      "\u001b[?25h  Stored in directory: /home/ec2-user/.cache/pip/wheels/e4/1f/b0/8730974894530362affb8a242aee8f3b42d55ec822c9e2a520\n",
      "Successfully built treelib\n",
      "Installing collected packages: treelib\n",
      "Successfully installed treelib-1.5.5\n",
      "\u001b[33mYou are using pip version 10.0.1, however version 19.3.1 is available.\n",
      "You should consider upgrading via the 'pip install --upgrade pip' command.\u001b[0m\n"
     ]
    }
   ],
   "source": [
    "!pip install treelib"
   ]
  },
  {
   "cell_type": "code",
   "execution_count": 1,
   "metadata": {},
   "outputs": [
    {
     "data": {
      "text/html": [
       "<div>\n",
       "<style scoped>\n",
       "    .dataframe tbody tr th:only-of-type {\n",
       "        vertical-align: middle;\n",
       "    }\n",
       "\n",
       "    .dataframe tbody tr th {\n",
       "        vertical-align: top;\n",
       "    }\n",
       "\n",
       "    .dataframe thead th {\n",
       "        text-align: right;\n",
       "    }\n",
       "</style>\n",
       "<table border=\"1\" class=\"dataframe\">\n",
       "  <thead>\n",
       "    <tr style=\"text-align: right;\">\n",
       "      <th></th>\n",
       "      <th>name</th>\n",
       "      <th>emp_id</th>\n",
       "      <th>manager_id</th>\n",
       "      <th>manager_valid</th>\n",
       "    </tr>\n",
       "  </thead>\n",
       "  <tbody>\n",
       "    <tr>\n",
       "      <th>0</th>\n",
       "      <td>Alan</td>\n",
       "      <td>100</td>\n",
       "      <td>150</td>\n",
       "      <td>True</td>\n",
       "    </tr>\n",
       "    <tr>\n",
       "      <th>1</th>\n",
       "      <td>Martin</td>\n",
       "      <td>220</td>\n",
       "      <td>100</td>\n",
       "      <td>True</td>\n",
       "    </tr>\n",
       "    <tr>\n",
       "      <th>2</th>\n",
       "      <td>Jamie</td>\n",
       "      <td>150</td>\n",
       "      <td></td>\n",
       "      <td>True</td>\n",
       "    </tr>\n",
       "    <tr>\n",
       "      <th>3</th>\n",
       "      <td>Alex</td>\n",
       "      <td>275</td>\n",
       "      <td>100</td>\n",
       "      <td>True</td>\n",
       "    </tr>\n",
       "    <tr>\n",
       "      <th>4</th>\n",
       "      <td>Steve</td>\n",
       "      <td>400</td>\n",
       "      <td>150</td>\n",
       "      <td>True</td>\n",
       "    </tr>\n",
       "    <tr>\n",
       "      <th>5</th>\n",
       "      <td>David</td>\n",
       "      <td>190</td>\n",
       "      <td>400</td>\n",
       "      <td>True</td>\n",
       "    </tr>\n",
       "    <tr>\n",
       "      <th>6</th>\n",
       "      <td>John</td>\n",
       "      <td>460</td>\n",
       "      <td>500</td>\n",
       "      <td>False</td>\n",
       "    </tr>\n",
       "    <tr>\n",
       "      <th>7</th>\n",
       "      <td>Jason</td>\n",
       "      <td>660</td>\n",
       "      <td>190</td>\n",
       "      <td>True</td>\n",
       "    </tr>\n",
       "  </tbody>\n",
       "</table>\n",
       "</div>"
      ],
      "text/plain": [
       "     name emp_id manager_id  manager_valid\n",
       "0    Alan    100        150           True\n",
       "1  Martin    220        100           True\n",
       "2   Jamie    150                      True\n",
       "3    Alex    275        100           True\n",
       "4   Steve    400        150           True\n",
       "5   David    190        400           True\n",
       "6    John    460        500          False\n",
       "7   Jason    660        190           True"
      ]
     },
     "execution_count": 1,
     "metadata": {},
     "output_type": "execute_result"
    }
   ],
   "source": [
    "import pandas as pd\n",
    "from treelib import Tree, Node\n",
    " \n",
    "org_df = pd.read_csv(\"test.csv\", header=0, usecols=[\"name\", \"emp_id\", \"manager_id\"],\n",
    "                                 names=[\"name\", \"emp_id\", \"manager_id\"], \n",
    "                                 dtype=object)\n",
    "org_df = org_df[pd.notnull(org_df['emp_id'])]\n",
    "org_df.loc[(org_df['manager_id'].isin(org_df[\"emp_id\"]) | org_df['manager_id'].isna() ), 'manager_valid'] = True \n",
    "org_df[\"manager_valid\"].fillna(False, inplace=True)\n",
    "org_df[\"manager_id\"].fillna('', inplace=True)\n",
    "org_df"
   ]
  },
  {
   "cell_type": "code",
   "execution_count": 2,
   "metadata": {},
   "outputs": [
    {
     "name": "stdout",
     "output_type": "stream",
     "text": [
      "Root\n",
      "├── Jamie\n",
      "│   ├── Alan\n",
      "│   │   ├── Alex\n",
      "│   │   └── Martin\n",
      "│   └── Steve\n",
      "│       └── David\n",
      "│           └── Jason\n",
      "└── Unknown Manager\n",
      "    └── John\n",
      "\n"
     ]
    }
   ],
   "source": [
    "my_org_tree = Tree()\n",
    "my_org_tree.create_node(\"Root\", \"1\")\n",
    "my_org_tree.create_node(\"Unknown Manager\", \"1.1\", parent = \"1\", data = {\"name\": \"Unknown Manager\", \"id\": \"1.1\"})\n",
    "\n",
    "for index, row in org_df.iterrows():\n",
    "    my_org_tree.create_node(row['name'], str(row['emp_id']), parent = \"1\", data = {\"name\":str(row['emp_id']), \"id\": str(row['emp_id'])})\n",
    "\n",
    "for index, row in org_df.iterrows():\n",
    "    if row['manager_id'] and row['manager_valid'] :\n",
    "        parent = str(row['manager_id'])\n",
    "    elif not row['manager_valid']:\n",
    "        parent = \"1.1\"\n",
    "    else:\n",
    "        parent = \"1\"  \n",
    "    my_org_tree.move_node(str(row['emp_id'] ), parent)\n",
    "\n",
    "my_org_tree.show()"
   ]
  },
  {
   "cell_type": "code",
   "execution_count": 3,
   "metadata": {},
   "outputs": [],
   "source": [
    "org_dict = my_org_tree.to_dict(with_data=True)\n",
    "org_obj = org_dict[\"Root\"]['children']"
   ]
  },
  {
   "cell_type": "code",
   "execution_count": 10,
   "metadata": {},
   "outputs": [],
   "source": [
    "def get_depth(id):\n",
    "    node = my_org_tree.get_node(str(id))\n",
    "    return my_org_tree.depth(node)\n",
    "\n",
    "\n",
    "def create_emp_list(d, emp_list):\n",
    "  if isinstance(d, (list)):\n",
    "    for l in d:\n",
    "        create_emp_list(l,emp_list)\n",
    "  else:\n",
    "    for k, v in d.items():\n",
    "        if v.get(\"data\"):\n",
    "             temp_dict = {} \n",
    "             for n in range(1,my_org_tree.depth()+1):\n",
    "                current_node = get_depth(v[\"data\"][\"id\"])\n",
    "                if n != current_node:\n",
    "                    temp_dict.update({n:\"\"})\n",
    "                else:\n",
    "                    temp_dict.update({current_node: k})\n",
    "             emp_list.append(temp_dict)\n",
    "        if v.get(\"children\"):\n",
    "            create_emp_list(v['children'],emp_list)\n",
    "  return emp_list        "
   ]
  },
  {
   "cell_type": "code",
   "execution_count": 9,
   "metadata": {},
   "outputs": [
    {
     "data": {
      "text/plain": [
       "[{1: 'Jamie', 2: '', 3: '', 4: ''},\n",
       " {1: '', 2: 'Alan', 3: '', 4: ''},\n",
       " {1: '', 2: '', 3: 'Alex', 4: ''},\n",
       " {1: '', 2: '', 3: 'Martin', 4: ''},\n",
       " {1: '', 2: 'Steve', 3: '', 4: ''},\n",
       " {1: '', 2: '', 3: 'David', 4: ''},\n",
       " {1: '', 2: '', 3: '', 4: 'Jason'},\n",
       " {1: 'Unknown Manager', 2: '', 3: '', 4: ''},\n",
       " {1: '', 2: 'John', 3: '', 4: ''}]"
      ]
     },
     "execution_count": 9,
     "metadata": {},
     "output_type": "execute_result"
    }
   ],
   "source": [
    "#org_dict\n",
    "employees = create_emp_list(org_obj,[])\n",
    "employees"
   ]
  },
  {
   "cell_type": "code",
   "execution_count": 8,
   "metadata": {},
   "outputs": [
    {
     "data": {
      "text/html": [
       "<div>\n",
       "<style scoped>\n",
       "    .dataframe tbody tr th:only-of-type {\n",
       "        vertical-align: middle;\n",
       "    }\n",
       "\n",
       "    .dataframe tbody tr th {\n",
       "        vertical-align: top;\n",
       "    }\n",
       "\n",
       "    .dataframe thead th {\n",
       "        text-align: right;\n",
       "    }\n",
       "</style>\n",
       "<table border=\"1\" class=\"dataframe\">\n",
       "  <thead>\n",
       "    <tr style=\"text-align: right;\">\n",
       "      <th></th>\n",
       "      <th>1</th>\n",
       "      <th>2</th>\n",
       "      <th>3</th>\n",
       "      <th>4</th>\n",
       "    </tr>\n",
       "  </thead>\n",
       "  <tbody>\n",
       "    <tr>\n",
       "      <th>0</th>\n",
       "      <td>Jamie</td>\n",
       "      <td></td>\n",
       "      <td></td>\n",
       "      <td></td>\n",
       "    </tr>\n",
       "    <tr>\n",
       "      <th>1</th>\n",
       "      <td></td>\n",
       "      <td>Alan</td>\n",
       "      <td></td>\n",
       "      <td></td>\n",
       "    </tr>\n",
       "    <tr>\n",
       "      <th>2</th>\n",
       "      <td></td>\n",
       "      <td></td>\n",
       "      <td>Alex</td>\n",
       "      <td></td>\n",
       "    </tr>\n",
       "    <tr>\n",
       "      <th>3</th>\n",
       "      <td></td>\n",
       "      <td></td>\n",
       "      <td>Martin</td>\n",
       "      <td></td>\n",
       "    </tr>\n",
       "    <tr>\n",
       "      <th>4</th>\n",
       "      <td></td>\n",
       "      <td>Steve</td>\n",
       "      <td></td>\n",
       "      <td></td>\n",
       "    </tr>\n",
       "    <tr>\n",
       "      <th>5</th>\n",
       "      <td></td>\n",
       "      <td></td>\n",
       "      <td>David</td>\n",
       "      <td></td>\n",
       "    </tr>\n",
       "    <tr>\n",
       "      <th>6</th>\n",
       "      <td></td>\n",
       "      <td></td>\n",
       "      <td></td>\n",
       "      <td>Jason</td>\n",
       "    </tr>\n",
       "    <tr>\n",
       "      <th>7</th>\n",
       "      <td>Unknown Manager</td>\n",
       "      <td></td>\n",
       "      <td></td>\n",
       "      <td></td>\n",
       "    </tr>\n",
       "    <tr>\n",
       "      <th>8</th>\n",
       "      <td></td>\n",
       "      <td>John</td>\n",
       "      <td></td>\n",
       "      <td></td>\n",
       "    </tr>\n",
       "  </tbody>\n",
       "</table>\n",
       "</div>"
      ],
      "text/plain": [
       "                 1      2       3      4\n",
       "0            Jamie                      \n",
       "1                    Alan               \n",
       "2                            Alex       \n",
       "3                          Martin       \n",
       "4                   Steve               \n",
       "5                           David       \n",
       "6                                  Jason\n",
       "7  Unknown Manager                      \n",
       "8                    John               "
      ]
     },
     "execution_count": 8,
     "metadata": {},
     "output_type": "execute_result"
    }
   ],
   "source": [
    "df = pd.DataFrame(employees) \n",
    "df"
   ]
  },
  {
   "cell_type": "code",
   "execution_count": 491,
   "metadata": {},
   "outputs": [],
   "source": [
    "df.to_csv('output.csv', header=False, index=False)"
   ]
  },
  {
   "cell_type": "code",
   "execution_count": null,
   "metadata": {},
   "outputs": [],
   "source": []
  }
 ],
 "metadata": {
  "kernelspec": {
   "display_name": "conda_python3",
   "language": "python",
   "name": "conda_python3"
  },
  "language_info": {
   "codemirror_mode": {
    "name": "ipython",
    "version": 3
   },
   "file_extension": ".py",
   "mimetype": "text/x-python",
   "name": "python",
   "nbconvert_exporter": "python",
   "pygments_lexer": "ipython3",
   "version": "3.6.5"
  }
 },
 "nbformat": 4,
 "nbformat_minor": 2
}
